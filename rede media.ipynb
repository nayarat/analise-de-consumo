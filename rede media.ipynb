{
  "nbformat": 4,
  "nbformat_minor": 0,
  "metadata": {
    "kernelspec": {
      "name": "python3",
      "display_name": "Python 3"
    },
    "language_info": {
      "codemirror_mode": {
        "name": "ipython",
        "version": 3
      },
      "file_extension": ".py",
      "mimetype": "text/x-python",
      "name": "python",
      "nbconvert_exporter": "python",
      "pygments_lexer": "ipython3",
      "version": "3.6.8"
    },
    "colab": {
      "name": "rede media.ipynb",
      "provenance": [],
      "collapsed_sections": [
        "xYqDRg-rr792",
        "eLPWr72Rqfwf",
        "ruRuB69ttSwM",
        "AawU8TQ5FoW2",
        "yu8c81vJuU0t",
        "G3kRWxqV5J4-"
      ],
      "include_colab_link": true
    },
    "accelerator": "GPU"
  },
  "cells": [
    {
      "cell_type": "markdown",
      "metadata": {
        "id": "view-in-github",
        "colab_type": "text"
      },
      "source": [
        "<a href=\"https://colab.research.google.com/github/nayarat/analise-de-consumo/blob/master/rede%20media.ipynb\" target=\"_parent\"><img src=\"https://colab.research.google.com/assets/colab-badge.svg\" alt=\"Open In Colab\"/></a>"
      ]
    },
    {
      "cell_type": "code",
      "metadata": {
        "id": "8qgdYIMGsfmU",
        "colab_type": "code",
        "colab": {}
      },
      "source": [
        "import numpy as np\n",
        "import pandas as pd\n",
        "import matplotlib.pyplot as plt\n",
        "import tensorflow as tf\n",
        "from sklearn.preprocessing import StandardScaler\n",
        "from google.colab import drive\n",
        "drive.mount('/content/gdrive')"
      ],
      "execution_count": 0,
      "outputs": []
    },
    {
      "cell_type": "markdown",
      "metadata": {
        "id": "vU3aLXnJSnvZ",
        "colab_type": "text"
      },
      "source": [
        "# CARREGANDO DADOS DE CONSUMOS MENSAIS"
      ]
    },
    {
      "cell_type": "code",
      "metadata": {
        "id": "uipqHVjP1j6s",
        "colab_type": "code",
        "colab": {}
      },
      "source": [
        "base_url = 'https://raw.githubusercontent.com/nayarat/analise-de-consumo/master/consumo'"
      ],
      "execution_count": 0,
      "outputs": []
    },
    {
      "cell_type": "code",
      "metadata": {
        "id": "UlLN3K40jtLX",
        "colab_type": "code",
        "colab": {}
      },
      "source": [
        "maio_06 = np.genfromtxt(base_url + '/2016/05-maio.csv', delimiter=';')\n",
        "junho_06 = np.genfromtxt(base_url + '/2016/06-junho.csv', delimiter=';')\n",
        "julho_06 = np.genfromtxt(base_url + '/2016/07-julho.csv', delimiter=';')\n",
        "agosto_06 = np.genfromtxt(base_url + '/2016/08-agosto.csv', delimiter=';')\n",
        "setembro_06 = np.genfromtxt(base_url + '/2016/09-setembro.csv', delimiter=';')\n",
        "outubro_06 = np.genfromtxt(base_url + '/2016/10-outubro.csv', delimiter=';')\n",
        "novembro_06 = np.genfromtxt(base_url + '/2016/11-novembro.csv', delimiter=';')\n",
        "dezembro_06 = np.genfromtxt(base_url + '/2016/12-dezembro.csv', delimiter=';')"
      ],
      "execution_count": 0,
      "outputs": []
    },
    {
      "cell_type": "code",
      "metadata": {
        "id": "KzMWVCy3jtLc",
        "colab_type": "code",
        "colab": {}
      },
      "source": [
        "janeiro_07 = np.genfromtxt(base_url + '/2017/01-janeiro.csv', delimiter=';')\n",
        "fevereiro_07 = np.genfromtxt(base_url + '/2017/02-fevereiro.csv', delimiter=';')\n",
        "marco_07 = np.genfromtxt(base_url + '/2017/03-marco.csv', delimiter=';')\n",
        "abril_07 = np.genfromtxt(base_url + '/2017/04-abril.csv', delimiter=';')\n",
        "maio_07 = np.genfromtxt(base_url + '/2017/05-maio.csv', delimiter=';')\n",
        "junho_07 = np.genfromtxt(base_url + '/2017/06-junho.csv', delimiter=';')"
      ],
      "execution_count": 0,
      "outputs": []
    },
    {
      "cell_type": "code",
      "metadata": {
        "id": "ekFTY4XKpAgh",
        "colab_type": "code",
        "colab": {}
      },
      "source": [
        "janeiro_08 = np.genfromtxt(base_url + '/2018/01-janeiro.csv', delimiter=';')\n",
        "fevereiro_08 = np.genfromtxt(base_url + '/2018/02-fevereiro.csv', delimiter=';')\n",
        "marco_08 = np.genfromtxt(base_url + '/2018/03-marco.csv', delimiter=';')\n",
        "abril_08 = np.genfromtxt(base_url + '/2018/04-abril.csv', delimiter=';')\n",
        "maio_08 = np.genfromtxt(base_url + '/2018/05-maio.csv', delimiter=';')\n",
        "junho_08 = np.genfromtxt(base_url + '/2018/06-junho.csv', delimiter=';')\n",
        "julho_08 = np.genfromtxt(base_url + '/2018/07-julho.csv', delimiter=';')\n",
        "agosto_08 = np.genfromtxt(base_url + '/2018/08-agosto.csv', delimiter=';')\n",
        "setembro_08 = np.genfromtxt(base_url + '/2018/09-setembro.csv', delimiter=';')\n",
        "outubro_08 = np.genfromtxt(base_url + '/2018/10-outubro.csv', delimiter=';')\n",
        "novembro_08 = np.genfromtxt(base_url + '/2018/11-novembro.csv', delimiter=';')\n",
        "dezembro_08 = np.genfromtxt(base_url + '/2018/12-dezembro.csv', delimiter=';')"
      ],
      "execution_count": 0,
      "outputs": []
    },
    {
      "cell_type": "markdown",
      "metadata": {
        "id": "70XnDEWXSug5",
        "colab_type": "text"
      },
      "source": [
        "# SEPARANDO OS DADOS DE CONSUMOS MENSAIS DO RESTANTE DOS DADOS VINDOS DO EQUIPAMENTO"
      ]
    },
    {
      "cell_type": "code",
      "metadata": {
        "id": "aD3dnGGdjtLh",
        "colab_type": "code",
        "colab": {}
      },
      "source": [
        "maio_06 = pd.DataFrame(maio_06[:, 2])*300\n",
        "junho_06 = pd.DataFrame(junho_06[:, 2])*300\n",
        "julho_06 = pd.DataFrame(julho_06[:, 2])*300\n",
        "agosto_06 = pd.DataFrame(agosto_06[:, 2])*300\n",
        "setembro_06 = pd.DataFrame(setembro_06[:, 2])*300\n",
        "outubro_06 = pd.DataFrame(outubro_06[:, 2])*300\n",
        "novembro_06 = pd.DataFrame(novembro_06[:, 2])*300\n",
        "dezembro_06 = pd.DataFrame(dezembro_06[:, 2])*300"
      ],
      "execution_count": 0,
      "outputs": []
    },
    {
      "cell_type": "code",
      "metadata": {
        "id": "iPusYM3xjtLm",
        "colab_type": "code",
        "colab": {}
      },
      "source": [
        "janeiro_07 = pd.DataFrame(janeiro_07[:, 2])*300\n",
        "fevereiro_07 = pd.DataFrame(fevereiro_07[:, 2])*300\n",
        "marco_07 = pd.DataFrame(marco_07[:, 2])*300\n",
        "abril_07 = pd.DataFrame(abril_07[:, 2])*300\n",
        "maio_07 = pd.DataFrame(maio_07[:, 2])*300\n",
        "junho_07 = pd.DataFrame(junho_07[:, 2])*300"
      ],
      "execution_count": 0,
      "outputs": []
    },
    {
      "cell_type": "code",
      "metadata": {
        "id": "Fun1wniY0mxz",
        "colab_type": "code",
        "colab": {}
      },
      "source": [
        "janeiro_08 = pd.DataFrame(janeiro_08[:, 2])\n",
        "fevereiro_08 = pd.DataFrame(fevereiro_08[:, 2])\n",
        "marco_08 = pd.DataFrame(marco_08[:, 2])\n",
        "abril_08 = pd.DataFrame(abril_08[:, 2])\n",
        "maio_08 = pd.DataFrame(maio_08[:, 2])\n",
        "junho_08 = pd.DataFrame(junho_08[:, 2])\n",
        "julho_08 = pd.DataFrame(julho_08[:, 2])\n",
        "agosto_08 = pd.DataFrame(agosto_08[:, 2])\n",
        "setembro_08 = pd.DataFrame(setembro_08[:, 2])\n",
        "outubro_08 = pd.DataFrame(outubro_08[:, 2])\n",
        "novembro_08 = pd.DataFrame(novembro_08[:, 2])\n",
        "dezembro_08 = pd.DataFrame(dezembro_08[:, 2])"
      ],
      "execution_count": 0,
      "outputs": []
    },
    {
      "cell_type": "markdown",
      "metadata": {
        "id": "4KGin4-2S3f2",
        "colab_type": "text"
      },
      "source": [
        "# VERIFICANDO A MÉDIA DOS CONSUMOS MENSAIS E SUBSTITUINDO OS TERMOS INVÁLIDOS PELO VALOR DA MÉDIA\n",
        "\n",
        "> obs.: A média é calculada desconsiderando os valores inválidos"
      ]
    },
    {
      "cell_type": "code",
      "metadata": {
        "id": "HK0IS0E9jtLq",
        "colab_type": "code",
        "colab": {}
      },
      "source": [
        "media_maio_06 = maio_06.mean()\n",
        "maio_06.update(maio_06.fillna(media_maio_06))\n",
        "\n",
        "media_junho_06 = junho_06.mean()\n",
        "junho_06.update(junho_06.fillna(media_junho_06))\n",
        "\n",
        "media_julho_06 = julho_06.mean()\n",
        "julho_06.update(julho_06.fillna(media_julho_06))\n",
        "\n",
        "media_agosto_06 = agosto_06.mean()\n",
        "agosto_06.update(agosto_06.fillna(media_agosto_06))\n",
        "\n",
        "media_setembro_06 = setembro_06.mean()\n",
        "setembro_06.update(setembro_06.fillna(media_setembro_06))\n",
        "\n",
        "media_outubro_06 = outubro_06.mean()\n",
        "outubro_06.update(outubro_06.fillna(media_outubro_06))\n",
        "\n",
        "media_novembro_06 = novembro_06.mean()\n",
        "novembro_06.update(novembro_06.fillna(media_novembro_06))\n",
        "\n",
        "media_dezembro_06 = dezembro_06.mean()\n",
        "dezembro_06.update(dezembro_06.fillna(media_dezembro_06))"
      ],
      "execution_count": 0,
      "outputs": []
    },
    {
      "cell_type": "code",
      "metadata": {
        "id": "RNil7f6BjtLv",
        "colab_type": "code",
        "colab": {}
      },
      "source": [
        "media_janeiro_07 = janeiro_07.mean()\n",
        "janeiro_07.update(janeiro_07.fillna(media_janeiro_07))\n",
        "\n",
        "media_fevereiro_07 = fevereiro_07.mean()\n",
        "fevereiro_07.update(fevereiro_07.fillna(media_fevereiro_07))\n",
        "\n",
        "media_marco_07 = marco_07.mean()\n",
        "marco_07.update(marco_07.fillna(media_marco_07))\n",
        "\n",
        "media_abril_07 = abril_07.mean()\n",
        "abril_07.update(abril_07.fillna(media_abril_07))\n",
        "\n",
        "media_maio_07 = maio_07.mean()\n",
        "maio_07.update(maio_07.fillna(media_maio_07))\n",
        "\n",
        "media_junho_07 = junho_07.mean()\n",
        "junho_07.update(junho_07.fillna(media_junho_07))"
      ],
      "execution_count": 0,
      "outputs": []
    },
    {
      "cell_type": "code",
      "metadata": {
        "id": "vxdaUPnr1NUJ",
        "colab_type": "code",
        "colab": {}
      },
      "source": [
        "media_janeiro_08 = janeiro_08.mean()\n",
        "janeiro_08.update(janeiro_08.fillna(media_janeiro_08))\n",
        "\n",
        "media_fevereiro_08 = fevereiro_08.mean()\n",
        "fevereiro_08.update(fevereiro_08.fillna(media_fevereiro_08))\n",
        "\n",
        "media_marco_08 = marco_08.mean()\n",
        "marco_08.update(marco_08.fillna(media_marco_08))\n",
        "\n",
        "media_abril_08 = abril_08.mean()\n",
        "abril_08.update(abril_08.fillna(media_abril_08))\n",
        "\n",
        "media_maio_08 = maio_08.mean()\n",
        "maio_08.update(maio_08.fillna(media_maio_08))\n",
        "\n",
        "media_junho_08 = junho_08.mean()\n",
        "junho_08.update(junho_08.fillna(media_junho_08))\n",
        "\n",
        "media_julho_08 = julho_08.mean()\n",
        "julho_08.update(julho_08.fillna(media_julho_08))\n",
        "\n",
        "media_agosto_08 = agosto_08.mean()\n",
        "agosto_08.update(agosto_08.fillna(media_agosto_08))\n",
        "\n",
        "media_setembro_08 = setembro_08.mean()\n",
        "setembro_08.update(setembro_08.fillna(media_setembro_08))\n",
        "\n",
        "media_outubro_08 = outubro_08.mean()\n",
        "outubro_08.update(outubro_08.fillna(media_outubro_08))\n",
        "\n",
        "media_novembro_08 = novembro_08.mean()\n",
        "novembro_08.update(novembro_08.fillna(media_novembro_08))\n",
        "\n",
        "media_dezembro_08 = dezembro_08.mean()\n",
        "dezembro_08.update(dezembro_08.fillna(media_dezembro_08))\n"
      ],
      "execution_count": 0,
      "outputs": []
    },
    {
      "cell_type": "markdown",
      "metadata": {
        "id": "WSXTifZnTROm",
        "colab_type": "text"
      },
      "source": [
        "# ORDENANDO OS DADOS DE CONSUMOS MENSAIS\n",
        "\n",
        "Os dados chegam invertidos, sendo que a primeira linha contem o dia 30/31 do mês, logo é necessário inverter a ordem, para assim a primeira linha referenciar ao inicio do mês."
      ]
    },
    {
      "cell_type": "code",
      "metadata": {
        "id": "i9qEYzokjtL5",
        "colab_type": "code",
        "colab": {}
      },
      "source": [
        "maio_06 = maio_06.iloc[::-1]\n",
        "junho_06 = junho_06.iloc[::-1]\n",
        "julho_06 = julho_06.iloc[::-1]\n",
        "agosto_06 = agosto_06.iloc[::-1]\n",
        "setembro_06 = setembro_06.iloc[::-1]\n",
        "outubro_06 = outubro_06.iloc[::-1]\n",
        "novembro_06 = novembro_06.iloc[::-1]\n",
        "dezembro_06 = dezembro_06.iloc[::-1]"
      ],
      "execution_count": 0,
      "outputs": []
    },
    {
      "cell_type": "code",
      "metadata": {
        "id": "pY4xVuqZjtL9",
        "colab_type": "code",
        "colab": {}
      },
      "source": [
        "janeiro_07 = janeiro_07.iloc[::-1]\n",
        "fevereiro_07 = fevereiro_07.iloc[::-1]\n",
        "marco_07 = marco_07.iloc[::-1]\n",
        "abril_07 = abril_07.iloc[::-1]\n",
        "maio_07 = maio_07.iloc[::-1]\n",
        "junho_07 = junho_07.iloc[::-1]"
      ],
      "execution_count": 0,
      "outputs": []
    },
    {
      "cell_type": "code",
      "metadata": {
        "id": "QgKO4m9u2kaJ",
        "colab_type": "code",
        "colab": {}
      },
      "source": [
        "janeiro_08 = janeiro_08.iloc[::-1]\n",
        "fevereiro_08 = fevereiro_08.iloc[::-1]\n",
        "marco_08 = marco_08.iloc[::-1]\n",
        "abril_08 = abril_08.iloc[::-1]\n",
        "maio_08 = maio_08.iloc[::-1]\n",
        "junho_08 = junho_08.iloc[::-1]\n",
        "julho_08 = julho_08.iloc[::-1]\n",
        "agosto_08 = agosto_08.iloc[::-1]\n",
        "setembro_08 = setembro_08.iloc[::-1]\n",
        "outubro_08 = outubro_08.iloc[::-1]\n",
        "novembro_08 = novembro_08.iloc[::-1]\n",
        "dezembro_08 = dezembro_08.iloc[::-1]"
      ],
      "execution_count": 0,
      "outputs": []
    },
    {
      "cell_type": "markdown",
      "metadata": {
        "id": "36j7r8ofTlEQ",
        "colab_type": "text"
      },
      "source": [
        "# COLOCANDO OS DADOS EM SEQUÊNCIA\n",
        "\n",
        "Essa etapa visa colocar os dados mensais em sequência, assim gerando uma massa de dados anual."
      ]
    },
    {
      "cell_type": "code",
      "metadata": {
        "id": "Ijc8mmnajtMC",
        "colab_type": "code",
        "colab": {}
      },
      "source": [
        "# criando DataFrame de 2016\n",
        "data2016 = pd.concat([maio_06, junho_06, julho_06, agosto_06,\n",
        "                      setembro_06, outubro_06, novembro_06, dezembro_06], ignore_index=True)\n",
        "\n",
        "# criando DataFrame de 2017\n",
        "data2017 = pd.concat([janeiro_07, fevereiro_07, marco_07,\n",
        "                      abril_07, maio_07, junho_07], ignore_index=True)"
      ],
      "execution_count": 0,
      "outputs": []
    },
    {
      "cell_type": "code",
      "metadata": {
        "id": "p2KAB53Lusn6",
        "colab_type": "code",
        "colab": {}
      },
      "source": [
        "# criando DataFrame de 2018\n",
        "data2018 = pd.concat([janeiro_08, fevereiro_08, marco_08,\n",
        "                      abril_08, maio_08, junho_08, julho_08, agosto_08,\n",
        "                      setembro_08, outubro_08, novembro_08, dezembro_08], ignore_index=True)"
      ],
      "execution_count": 0,
      "outputs": []
    },
    {
      "cell_type": "markdown",
      "metadata": {
        "id": "ENDr4NOsT0B5",
        "colab_type": "text"
      },
      "source": [
        "# EXIBINDO GRÁFICOS MENSAIS DE CONSUMO DE 2016"
      ]
    },
    {
      "cell_type": "code",
      "metadata": {
        "id": "n5YIdrKKjtMG",
        "colab_type": "code",
        "colab": {}
      },
      "source": [
        "# plotando 2016\n",
        "plt.figure(figsize=(20,10))\n",
        "plt.plot(maio_06)\n",
        "plt.plot(junho_06)\n",
        "plt.plot(julho_06)\n",
        "plt.plot(agosto_06)\n",
        "plt.plot(setembro_06)\n",
        "plt.plot(outubro_06)\n",
        "plt.plot(novembro_06)\n",
        "plt.plot(dezembro_06)\n",
        "plt.show()"
      ],
      "execution_count": 0,
      "outputs": []
    },
    {
      "cell_type": "markdown",
      "metadata": {
        "id": "4mYVoRAzUCBV",
        "colab_type": "text"
      },
      "source": [
        "# EXIBINDO GRÁFICO ANUAL DE CONSUMO DE 2016"
      ]
    },
    {
      "cell_type": "code",
      "metadata": {
        "id": "spGd7gx-jtML",
        "colab_type": "code",
        "colab": {}
      },
      "source": [
        "plt.figure(figsize=(20,10))\n",
        "plt.plot(data2016)\n",
        "plt.title('grafico do ano de 2016')\n",
        "plt.show()"
      ],
      "execution_count": 0,
      "outputs": []
    },
    {
      "cell_type": "markdown",
      "metadata": {
        "id": "u-RuOlQyT9eC",
        "colab_type": "text"
      },
      "source": [
        "# EXIBINDO GRÁFICOS MENSAIS DE CONSUMO DE 2017"
      ]
    },
    {
      "cell_type": "code",
      "metadata": {
        "id": "RkGO71IDjtMP",
        "colab_type": "code",
        "colab": {}
      },
      "source": [
        "# plotando 2017\n",
        "plt.figure(figsize=(20,10))\n",
        "plt.plot(janeiro_07)\n",
        "plt.plot(fevereiro_07)\n",
        "plt.plot(marco_07)\n",
        "plt.plot(abril_07)\n",
        "plt.plot(maio_07)\n",
        "plt.plot(junho_07)\n",
        "plt.show()"
      ],
      "execution_count": 0,
      "outputs": []
    },
    {
      "cell_type": "markdown",
      "metadata": {
        "id": "1wSMUTflUGTf",
        "colab_type": "text"
      },
      "source": [
        "# EXIBINDO GRÁFICO ANUAL DE CONSUMO DE 2017"
      ]
    },
    {
      "cell_type": "code",
      "metadata": {
        "scrolled": false,
        "id": "nslNDyt5jtMU",
        "colab_type": "code",
        "colab": {}
      },
      "source": [
        "plt.figure(figsize=(20,10))\n",
        "plt.plot(data2017)\n",
        "plt.title('grafico do ano de 2017')\n",
        "plt.show()"
      ],
      "execution_count": 0,
      "outputs": []
    },
    {
      "cell_type": "markdown",
      "metadata": {
        "id": "XTQstQ3IT_ik",
        "colab_type": "text"
      },
      "source": [
        "# EXIBINDO GRÁFICOS MENSAIS DE CONSUMO DE 2018"
      ]
    },
    {
      "cell_type": "code",
      "metadata": {
        "id": "szHMibQlqWZK",
        "colab_type": "code",
        "colab": {}
      },
      "source": [
        "#plot de 2018 por mes\n",
        "plt.figure(figsize=(20,10))\n",
        "plt.plot(janeiro_08)\n",
        "plt.plot(fevereiro_08)\n",
        "plt.plot(marco_08)\n",
        "plt.plot(abril_08)\n",
        "plt.plot(maio_08)\n",
        "plt.plot(junho_08)\n",
        "plt.plot(julho_08)\n",
        "plt.plot(agosto_08)\n",
        "plt.plot(setembro_08)\n",
        "plt.plot(outubro_08)\n",
        "plt.plot(novembro_08)\n",
        "plt.plot(dezembro_08)\n",
        "plt.show()"
      ],
      "execution_count": 0,
      "outputs": []
    },
    {
      "cell_type": "markdown",
      "metadata": {
        "id": "2qqgizQ2UHv5",
        "colab_type": "text"
      },
      "source": [
        "# EXIBINDO GRÁFICO ANUAL DE CONSUMO DE 2018"
      ]
    },
    {
      "cell_type": "code",
      "metadata": {
        "id": "-PmP4lmHqZG7",
        "colab_type": "code",
        "colab": {}
      },
      "source": [
        "#plot de 2018 ano todo\n",
        "plt.figure(figsize=(20,10))\n",
        "plt.plot(data2018)\n",
        "plt.title('grafico do ano de 2018')\n",
        "plt.show()"
      ],
      "execution_count": 0,
      "outputs": []
    },
    {
      "cell_type": "markdown",
      "metadata": {
        "id": "mN35mNZvUSI4",
        "colab_type": "text"
      },
      "source": [
        "# REGRESSÕES\n",
        "A ideia é que ao aplicar um algoritmo de regressão em cada ano, vamos obter uma curva caracteristica do sistema, facilitando o treinamento da rede neural posteriormente."
      ]
    },
    {
      "cell_type": "markdown",
      "metadata": {
        "id": "xYqDRg-rr792",
        "colab_type": "text"
      },
      "source": [
        "## **Regressão de 2016**"
      ]
    },
    {
      "cell_type": "code",
      "metadata": {
        "id": "oU_tGWJHsByG",
        "colab_type": "code",
        "colab": {}
      },
      "source": [
        "grauDoPolinomio = 5\n",
        "\n",
        "ano = data2016\n",
        "\n",
        "x = np.linspace(0,ano.size-1, ano.size)\n",
        "x = x.reshape(x.size,1)\n",
        "\n",
        "# #-------------------------------Biblioteca------------------------------------#\n",
        "from sklearn.preprocessing import PolynomialFeatures\n",
        "\n",
        "# #--------------------Elevando as entradas a ordem degree----------------------#\n",
        "poly = PolynomialFeatures(degree=grauDoPolinomio) # cada atributo será elevado a 1, 2, 3 e 4 criando assim 3 novos atributos, esse número é definido por escolha do programador\n",
        "x = poly.fit_transform(x)\n",
        "\n",
        "# #---------------------------Criando o regressor-------------------------------#\n",
        "from sklearn.linear_model import LinearRegression\n",
        "regressor = LinearRegression()\n",
        "regressor.fit(x, ano)\n",
        "\n",
        "# #----Ver a correlação do modelo com relação a base de dados de Treinamento----#\n",
        "score = regressor.score(x, ano)\n",
        "print('A correlação do modelo com a base de dados de treinamento é de: {}'.format(score))\n",
        "\n",
        "# #------------------------------Prevendo um valor------------------------------#\n",
        "previsoes = regressor.predict(x)\n",
        "\n",
        "# #------------------Diferança entre valores reais e previstos------------------#\n",
        "from sklearn.metrics import mean_absolute_error, mean_squared_error\n",
        "erro_absoluto = mean_absolute_error(ano, previsoes)\n",
        "erro_quadratico = mean_squared_error(ano, previsoes)\n",
        "print('Erro absoluto: {}'.format(erro_absoluto))\n",
        "print('Erro quadratico: {}'.format(erro_quadratico))\n",
        "\n",
        "previsoes_2016 = previsoes"
      ],
      "execution_count": 0,
      "outputs": []
    },
    {
      "cell_type": "code",
      "metadata": {
        "id": "zIBGc9tts5y6",
        "colab_type": "code",
        "colab": {}
      },
      "source": [
        "plt.figure(figsize=(20,10))\n",
        "plt.plot(ano, label='Real')\n",
        "plt.plot(previsoes, 'red', label='Regressão')\n",
        "plt.legend()\n",
        "plt.show()"
      ],
      "execution_count": 0,
      "outputs": []
    },
    {
      "cell_type": "markdown",
      "metadata": {
        "id": "eLPWr72Rqfwf",
        "colab_type": "text"
      },
      "source": [
        "## **Regressão de 2017**"
      ]
    },
    {
      "cell_type": "code",
      "metadata": {
        "id": "QgscVUDIjtM3",
        "colab_type": "code",
        "colab": {}
      },
      "source": [
        " grauDoPolinomio = 5\n",
        "\n",
        "ano = data2017\n",
        "\n",
        "x = np.linspace(0,ano.size-1, ano.size)\n",
        "x = x.reshape(x.size,1)\n",
        "\n",
        "#-------------------------------Biblioteca------------------------------------#\n",
        "from sklearn.preprocessing import PolynomialFeatures\n",
        "\n",
        "#--------------------Elevando as entradas a ordem degree----------------------#\n",
        "poly = PolynomialFeatures(degree=grauDoPolinomio) # cada atributo será elevado a 1, 2, 3 e 4 criando assim 3 novos atributos, esse número é definido por escolha do programador\n",
        "x = poly.fit_transform(x)\n",
        "\n",
        "#---------------------------Criando o regressor-------------------------------#\n",
        "from sklearn.linear_model import LinearRegression\n",
        "regressor = LinearRegression()\n",
        "regressor.fit(x, ano)\n",
        "\n",
        "#----Ver a correlação do modelo com relação a base de dados de Treinamento----#\n",
        "score = regressor.score(x, ano)\n",
        "print('A correlação do modelo com a base de dados de treinamento é de: {}'.format(score))\n",
        "\n",
        "#------------------------------Prevendo um valor------------------------------#\n",
        "previsoes = regressor.predict(x)\n",
        "\n",
        "#------------------Diferança entre valores reais e previstos------------------#\n",
        "from sklearn.metrics import mean_absolute_error, mean_squared_error\n",
        "erro_absoluto = mean_absolute_error(ano, previsoes)\n",
        "erro_quadratico = mean_squared_error(ano, previsoes)\n",
        "print('Erro absoluto: {}'.format(erro_absoluto))\n",
        "print('Erro quadratico: {}'.format(erro_quadratico))\n",
        "\n",
        "previsoes_2017 = previsoes"
      ],
      "execution_count": 0,
      "outputs": []
    },
    {
      "cell_type": "code",
      "metadata": {
        "scrolled": false,
        "id": "xfgGQSDHjtNN",
        "colab_type": "code",
        "colab": {}
      },
      "source": [
        "plt.figure(figsize=(20,10))\n",
        "plt.plot(ano, label='Real')\n",
        "plt.plot(previsoes, 'red', label='Regressão')\n",
        "plt.legend()\n",
        "plt.show()"
      ],
      "execution_count": 0,
      "outputs": []
    },
    {
      "cell_type": "markdown",
      "metadata": {
        "id": "ruRuB69ttSwM",
        "colab_type": "text"
      },
      "source": [
        "## **Regressão de 2018**"
      ]
    },
    {
      "cell_type": "code",
      "metadata": {
        "id": "A1feuyMxtSb1",
        "colab_type": "code",
        "colab": {}
      },
      "source": [
        "grauDoPolinomio = 5\n",
        "\n",
        "ano = data2018\n",
        "\n",
        "x = np.linspace(0,ano.size-1, ano.size)\n",
        "x = x.reshape(x.size,1)\n",
        "\n",
        "#-------------------------------Biblioteca------------------------------------#\n",
        "from sklearn.preprocessing import PolynomialFeatures\n",
        "\n",
        "#--------------------Elevando as entradas a ordem degree----------------------#\n",
        "poly = PolynomialFeatures(degree=grauDoPolinomio) # cada atributo será elevado a 1, 2, 3 e 4 criando assim 3 novos atributos, esse número é definido por escolha do programador\n",
        "x = poly.fit_transform(x)\n",
        "\n",
        "#---------------------------Criando o regressor-------------------------------#\n",
        "from sklearn.linear_model import LinearRegression\n",
        "regressor = LinearRegression()\n",
        "regressor.fit(x, ano)\n",
        "\n",
        "#----Ver a correlação do modelo com relação a base de dados de Treinamento----#\n",
        "score = regressor.score(x, ano)\n",
        "print('A correlação do modelo com a base de dados de treinamento é de: {}'.format(score))\n",
        "\n",
        "#------------------------------Prevendo um valor------------------------------#\n",
        "previsoes = regressor.predict(x)\n",
        "\n",
        "#------------------Diferança entre valores reais e previstos------------------#\n",
        "from sklearn.metrics import mean_absolute_error, mean_squared_error\n",
        "erro_absoluto = mean_absolute_error(ano, previsoes)\n",
        "erro_quadratico = mean_squared_error(ano, previsoes)\n",
        "print('Erro absoluto: {}'.format(erro_absoluto))\n",
        "print('Erro quadratico: {}'.format(erro_quadratico))\n",
        "\n",
        "previsoes_2018 = previsoes"
      ],
      "execution_count": 0,
      "outputs": []
    },
    {
      "cell_type": "code",
      "metadata": {
        "id": "M7I8E0YxtdRX",
        "colab_type": "code",
        "colab": {}
      },
      "source": [
        "plt.figure(figsize=(20,10))\n",
        "plt.plot(ano, label='Real')\n",
        "plt.plot(previsoes, 'red', label='Regressão')\n",
        "plt.legend()\n",
        "plt.show()"
      ],
      "execution_count": 0,
      "outputs": []
    },
    {
      "cell_type": "markdown",
      "metadata": {
        "id": "yu8c81vJuU0t",
        "colab_type": "text"
      },
      "source": [
        "# Concatenar anos\n",
        "\n",
        "Agora colocaremos os dados vindos das regressões de cada ano em sequência, assim teremos uma curva representativa dos ultimos três anos. E essa curva será a utilizada para treinar a rede neural. "
      ]
    },
    {
      "cell_type": "code",
      "metadata": {
        "id": "zvRdrv6cwghz",
        "colab_type": "code",
        "colab": {}
      },
      "source": [
        "anos = np.concatenate((previsoes_2016, previsoes_2017, previsoes_2018))"
      ],
      "execution_count": 0,
      "outputs": []
    },
    {
      "cell_type": "markdown",
      "metadata": {
        "id": "kHcF1Pq3jtNV",
        "colab_type": "text"
      },
      "source": [
        "# Criando rede neural"
      ]
    },
    {
      "cell_type": "code",
      "metadata": {
        "id": "j4M9vb9CjtNa",
        "colab_type": "code",
        "colab": {}
      },
      "source": [
        "x = []\n",
        "y = []\n",
        "batch = 32 \n",
        "\n",
        "for i in range(len(anos)-batch):\n",
        "    lista = []\n",
        "    for j in range(batch):\n",
        "        lista.append(anos[i+j][0])\n",
        "    x.append(lista)\n",
        "    y.append(anos[i+batch])"
      ],
      "execution_count": 0,
      "outputs": []
    },
    {
      "cell_type": "code",
      "metadata": {
        "id": "ImC74AqajtNe",
        "colab_type": "code",
        "colab": {}
      },
      "source": [
        "x_train = np.asarray(x)  \n",
        "y_train = np.asarray(y)"
      ],
      "execution_count": 0,
      "outputs": []
    },
    {
      "cell_type": "code",
      "metadata": {
        "id": "gjSfEDEEjtNy",
        "colab_type": "code",
        "colab": {}
      },
      "source": [
        "model = tf.keras.models.Sequential()\n",
        "\n",
        "model.add(tf.keras.layers.CuDNNLSTM(100, return_sequences=True, input_shape=(x_train.shape[1],1)))\n",
        "model.add(tf.keras.layers.Dropout(0.2))\n",
        "\n",
        "model.add(tf.keras.layers.CuDNNLSTM(units=100, return_sequences = True))\n",
        "model.add(tf.keras.layers.Dropout(0.2))\n",
        "\n",
        "model.add(tf.keras.layers.CuDNNLSTM(units=100, return_sequences = True))\n",
        "model.add(tf.keras.layers.Dropout(0.2))\n",
        "\n",
        "model.add(tf.keras.layers.CuDNNLSTM(units=100, return_sequences = True))\n",
        "model.add(tf.keras.layers.Dropout(0.2))\n",
        "\n",
        "model.add(tf.keras.layers.CuDNNLSTM(units=100))\n",
        "model.add(tf.keras.layers.Dropout(0.2))\n",
        "\n",
        "model.add(tf.keras.layers.Dense(1, activation='linear'))\n",
        "\n",
        "model.summary()"
      ],
      "execution_count": 0,
      "outputs": []
    },
    {
      "cell_type": "code",
      "metadata": {
        "id": "pl4nWWxojtN2",
        "colab_type": "code",
        "colab": {}
      },
      "source": [
        "model.compile(optimizer='rmsprop',\n",
        "             loss='mse')"
      ],
      "execution_count": 0,
      "outputs": []
    },
    {
      "cell_type": "code",
      "metadata": {
        "id": "vl9_aJyPjODb",
        "colab_type": "code",
        "colab": {}
      },
      "source": [
        "scalerYTrain = StandardScaler()\n",
        "scalerXTrain = StandardScaler()\n",
        "\n",
        "y_train = scalerYTrain.fit_transform(y_train)\n",
        "x_train = scalerXTrain.fit_transform(x_train)"
      ],
      "execution_count": 0,
      "outputs": []
    },
    {
      "cell_type": "code",
      "metadata": {
        "id": "eSO8V0w_jtN6",
        "colab_type": "code",
        "colab": {}
      },
      "source": [
        "x_train = x_train.reshape(x_train.shape[0], x_train.shape[1], 1)"
      ],
      "execution_count": 0,
      "outputs": []
    },
    {
      "cell_type": "code",
      "metadata": {
        "id": "Rj4dtefBjtN9",
        "colab_type": "code",
        "colab": {}
      },
      "source": [
        "model.fit(x_train, y_train, epochs=500, batch_size=batch, callbacks=[tf.keras.callbacks.ReduceLROnPlateau(monitor='loss')])"
      ],
      "execution_count": 0,
      "outputs": []
    },
    {
      "cell_type": "markdown",
      "metadata": {
        "id": "G3kRWxqV5J4-",
        "colab_type": "text"
      },
      "source": [
        "## Salvando o modelo"
      ]
    },
    {
      "cell_type": "code",
      "metadata": {
        "id": "6bNCNEfcsLE8",
        "colab_type": "code",
        "colab": {}
      },
      "source": [
        "model.save('gdrive/My Drive/TCC/RedeTreinada/my_model.h5')"
      ],
      "execution_count": 0,
      "outputs": []
    },
    {
      "cell_type": "markdown",
      "metadata": {
        "id": "eYHkmBiib4gy",
        "colab_type": "text"
      },
      "source": [
        "# Previsão 2019\n",
        "Agora, com a rede treinada, vamos prever como seria o comportamento do consumo em 2019.\n",
        "\n",
        "Para isso vamos primeiramente definir quantos pontos são referentes a 2019, para isso vamos considerar que as medições são feitas de 15 em 15 minutos. Logo temos um total de `365*4*24` pontos"
      ]
    },
    {
      "cell_type": "code",
      "metadata": {
        "id": "FiByydCLVw5u",
        "colab_type": "code",
        "colab": {}
      },
      "source": [
        "pontosAno = 365*4*24"
      ],
      "execution_count": 0,
      "outputs": []
    },
    {
      "cell_type": "markdown",
      "metadata": {
        "id": "bw5TuifyV3HH",
        "colab_type": "text"
      },
      "source": [
        "## Prevendo os valores"
      ]
    },
    {
      "cell_type": "code",
      "metadata": {
        "id": "OX9OYXu-Q_qx",
        "colab_type": "code",
        "colab": {}
      },
      "source": [
        "values = x_train[-1].reshape(1,batch,1)\n",
        "consumoPrevisto = values\n",
        "\n",
        "for i in range(pontosAno):\n",
        "    prediction = model.predict(values)\n",
        "    consumoPrevisto = np.append(consumoPrevisto, prediction)\n",
        "    values = consumoPrevisto[i:i+batch]\n",
        "    values = values.reshape(1,batch,1)"
      ],
      "execution_count": 0,
      "outputs": []
    },
    {
      "cell_type": "markdown",
      "metadata": {
        "id": "RH75aEzAV7U-",
        "colab_type": "text"
      },
      "source": [
        "### Veja os valores previstos em um gráfico"
      ]
    },
    {
      "cell_type": "code",
      "metadata": {
        "id": "up3jpd_SapYl",
        "colab_type": "code",
        "colab": {}
      },
      "source": [
        "plt.figure(figsize=(20,10))\n",
        "plt.plot(scalerYTrain.inverse_transform(consumoPrevisto.reshape(consumoPrevisto.shape[0],1)))"
      ],
      "execution_count": 0,
      "outputs": []
    },
    {
      "cell_type": "markdown",
      "metadata": {
        "id": "NJgUijV3cKw4",
        "colab_type": "text"
      },
      "source": [
        "# CRIANDO PREDIÇÃO PARA CONSUMO E TDH"
      ]
    },
    {
      "cell_type": "markdown",
      "metadata": {
        "id": "hIMsKEFBV_9H",
        "colab_type": "text"
      },
      "source": [
        "## Carregando dados\n",
        "Os dados aqui trabalhados são os de consumo e distorções harmonicas de cada fase por trafo.\n",
        "\n",
        "O objetivo daqui para frente é utilizar o consumo como base para obter as distorçoes harmonicas de cada fase. \n",
        "Assim posteriormente com a previsão do consumo em gerada pela rede neural treinada anteriormente, podemos prever o valor de distorção harmonica em algum ponto futuro, logo podemos saber quando ela irá ultrapassar o maximo determinado pela normal."
      ]
    },
    {
      "cell_type": "code",
      "metadata": {
        "id": "IS4-ZiWOcKHX",
        "colab_type": "code",
        "colab": {}
      },
      "source": [
        "base_url = 'https://raw.githubusercontent.com/nayarat/analise-de-consumo/master/Trafos/THD/'\n",
        "\n",
        "harmonicoTrafo1 = np.genfromtxt(base_url + 'Trafo1.csv', delimiter=';')\n",
        "harmonicoTrafo2 = np.genfromtxt(base_url + 'Trafo2.csv', delimiter=';')\n",
        "harmonicoTrafo3 = np.genfromtxt(base_url + 'Trafo3.csv', delimiter=';')\n",
        "harmonicoTrafo4 = np.genfromtxt(base_url + 'Trafo4.csv', delimiter=';')"
      ],
      "execution_count": 0,
      "outputs": []
    },
    {
      "cell_type": "code",
      "metadata": {
        "id": "Lccb7b2adQXO",
        "colab_type": "code",
        "colab": {}
      },
      "source": [
        "base_url = 'https://raw.githubusercontent.com/nayarat/analise-de-consumo/master/Trafos/consumo/'\n",
        "\n",
        "consumoTrafo1 = np.genfromtxt(base_url + 'Trafo1.csv', delimiter=';')\n",
        "consumoTrafo2 = np.genfromtxt(base_url + 'Trafo2.csv', delimiter=';')\n",
        "consumoTrafo3 = np.genfromtxt(base_url + 'Trafo3.csv', delimiter=';')\n",
        "consumoTrafo4 = np.genfromtxt(base_url + 'Trafo4.csv', delimiter=';')"
      ],
      "execution_count": 0,
      "outputs": []
    },
    {
      "cell_type": "markdown",
      "metadata": {
        "id": "TRJ2mU3dWj-x",
        "colab_type": "text"
      },
      "source": [
        "### Carregando as distorções harmonicas médias"
      ]
    },
    {
      "cell_type": "code",
      "metadata": {
        "id": "wVqKTmf4nbMB",
        "colab_type": "code",
        "colab": {}
      },
      "source": [
        "harmonicoTrafo1FaseA = harmonicoTrafo1[:,3]\n",
        "harmonicoTrafo2FaseA = harmonicoTrafo2[:,3]\n",
        "harmonicoTrafo3FaseA = harmonicoTrafo3[:,3]\n",
        "harmonicoTrafo4FaseA = harmonicoTrafo4[:,3]"
      ],
      "execution_count": 0,
      "outputs": []
    },
    {
      "cell_type": "code",
      "metadata": {
        "id": "VXZDN2IpoYA4",
        "colab_type": "code",
        "colab": {}
      },
      "source": [
        "harmonicoTrafo1FaseB = harmonicoTrafo1[:,6]\n",
        "harmonicoTrafo2FaseB = harmonicoTrafo2[:,6]\n",
        "harmonicoTrafo3FaseB = harmonicoTrafo3[:,6]\n",
        "harmonicoTrafo4FaseB = harmonicoTrafo4[:,6]"
      ],
      "execution_count": 0,
      "outputs": []
    },
    {
      "cell_type": "code",
      "metadata": {
        "id": "rmKa-Uu0od6w",
        "colab_type": "code",
        "colab": {}
      },
      "source": [
        "harmonicoTrafo1FaseC = harmonicoTrafo1[:,9]\n",
        "harmonicoTrafo2FaseC = harmonicoTrafo2[:,9]\n",
        "harmonicoTrafo3FaseC = harmonicoTrafo3[:,9]\n",
        "harmonicoTrafo4FaseC = harmonicoTrafo4[:,9]"
      ],
      "execution_count": 0,
      "outputs": []
    },
    {
      "cell_type": "markdown",
      "metadata": {
        "id": "hHYROnzBWo7N",
        "colab_type": "text"
      },
      "source": [
        "### Carregando os consumos de cada trafo"
      ]
    },
    {
      "cell_type": "markdown",
      "metadata": {
        "id": "sp-AqxmTWski",
        "colab_type": "text"
      },
      "source": [
        "### Somando os consumos dos trafos e as distorçoes harmonicas de cada fase"
      ]
    },
    {
      "cell_type": "code",
      "metadata": {
        "id": "1P3BGFGVlbq-",
        "colab_type": "code",
        "colab": {}
      },
      "source": [
        "consumoTotal = consumoTrafo1 + consumoTrafo2 + consumoTrafo3 + consumoTrafo4\n",
        "harmonicosFaseA = harmonicoTrafo1FaseA + harmonicoTrafo2FaseA + harmonicoTrafo3FaseA + harmonicoTrafo4FaseA\n",
        "harmonicosFaseB = harmonicoTrafo1FaseB + harmonicoTrafo2FaseB + harmonicoTrafo3FaseB + harmonicoTrafo4FaseB\n",
        "harmonicosFaseC = harmonicoTrafo1FaseC + harmonicoTrafo2FaseC + harmonicoTrafo3FaseC + harmonicoTrafo4FaseC"
      ],
      "execution_count": 0,
      "outputs": []
    },
    {
      "cell_type": "markdown",
      "metadata": {
        "id": "kXfRCUCKXUl3",
        "colab_type": "text"
      },
      "source": [
        "## Criando função que cria uma rede neural"
      ]
    },
    {
      "cell_type": "code",
      "metadata": {
        "id": "2Mn2wHizqByA",
        "colab_type": "code",
        "colab": {}
      },
      "source": [
        "def regressionModel():\n",
        "    model_regression = tf.keras.models.Sequential()\n",
        "\n",
        "    model_regression.add(tf.keras.layers.Dense(64, activation='relu', input_dim = 1))      \n",
        "    model_regression.add(tf.keras.layers.Dense(64,activation='relu'))                      \n",
        "    model_regression.add(tf.keras.layers.Dense(1, activation='linear'))                    \n",
        "    return model_regression"
      ],
      "execution_count": 0,
      "outputs": []
    },
    {
      "cell_type": "markdown",
      "metadata": {
        "id": "-9Tf34aBXYhd",
        "colab_type": "text"
      },
      "source": [
        "## Ajustando as dimensões das massas de dados"
      ]
    },
    {
      "cell_type": "code",
      "metadata": {
        "id": "9IOB_pRvvNll",
        "colab_type": "code",
        "colab": {}
      },
      "source": [
        "consumoTotal = consumoTotal.reshape(93,1)\n",
        "harmonicosFaseA = harmonicosFaseA.reshape(93,1)\n",
        "harmonicosFaseB = harmonicosFaseB.reshape(93,1)\n",
        "harmonicosFaseC = harmonicosFaseC.reshape(93,1)"
      ],
      "execution_count": 0,
      "outputs": []
    },
    {
      "cell_type": "markdown",
      "metadata": {
        "id": "L8pxX8RaXd4s",
        "colab_type": "text"
      },
      "source": [
        "## Escalonando os dados e treinando as redes"
      ]
    },
    {
      "cell_type": "code",
      "metadata": {
        "id": "OmP0D04du3Ak",
        "colab_type": "code",
        "colab": {}
      },
      "source": [
        "scalerConsumo = StandardScaler()\n",
        "scalerFaseA = StandardScaler()\n",
        "scalerFaseB = StandardScaler()\n",
        "scalerFaseC = StandardScaler()\n",
        "\n",
        "x = scalerConsumo.fit_transform(consumoTotal)\n",
        "yA = scalerFaseA.fit_transform(harmonicosFaseA)\n",
        "yB = scalerFaseB.fit_transform(harmonicosFaseB)\n",
        "yC = scalerFaseC.fit_transform(harmonicosFaseC)\n",
        "\n",
        "model_regressionA = regressionModel()\n",
        "model_regressionB = regressionModel()\n",
        "model_regressionC = regressionModel()\n",
        "\n",
        "model_regressionA.compile(optimizer='RMSprop', loss = 'mse', metrics=['mae', 'mse'])\n",
        "model_regressionB.compile(optimizer='RMSprop', loss = 'mse', metrics=['mae', 'mse'])\n",
        "model_regressionC.compile(optimizer='RMSprop', loss = 'mse', metrics=['mae', 'mse'])\n",
        "\n",
        "\n",
        "model_regressionA.fit(x, yA, batch_size=32, epochs = 500, verbose=0)\n",
        "model_regressionB.fit(x, yB, batch_size=32, epochs = 500, verbose=0)\n",
        "model_regressionC.fit(x, yC, batch_size=32, epochs = 500, verbose=0)"
      ],
      "execution_count": 0,
      "outputs": []
    },
    {
      "cell_type": "markdown",
      "metadata": {
        "id": "6wubbTRCXi2l",
        "colab_type": "text"
      },
      "source": [
        "## Salvando os modelos"
      ]
    },
    {
      "cell_type": "code",
      "metadata": {
        "id": "jGwLhLwWRPlF",
        "colab_type": "code",
        "colab": {}
      },
      "source": [
        "model_regressionA.save('gdrive/My Drive/TCC/RedeTreinada/model_regressionA.h5')\n",
        "model_regressionB.save('gdrive/My Drive/TCC/RedeTreinada/model_regressionB.h5')\n",
        "model_regressionC.save('gdrive/My Drive/TCC/RedeTreinada/model_regressionC.h5')"
      ],
      "execution_count": 0,
      "outputs": []
    },
    {
      "cell_type": "markdown",
      "metadata": {
        "id": "RWdEY8KzXmXh",
        "colab_type": "text"
      },
      "source": [
        "## EXIBINDO AS CURVAS DE HARMONICOS REAIS E AS PREVISTAS UTILIZANDO A MESMA BASE DE DADOS QUE FOI UTILIZADA PARA TREINAR"
      ]
    },
    {
      "cell_type": "code",
      "metadata": {
        "id": "7y9aseY8p9C1",
        "colab_type": "code",
        "colab": {}
      },
      "source": [
        "plt.plot(harmonicosFaseA, 'red', label='Valor real')\n",
        "plt.plot(scalerFaseA.inverse_transform(model_regressionA.predict(x)), 'blue', label='Valor previsto')\n",
        "plt.legend()"
      ],
      "execution_count": 0,
      "outputs": []
    },
    {
      "cell_type": "code",
      "metadata": {
        "id": "oTmgwkd1NZ16",
        "colab_type": "code",
        "colab": {}
      },
      "source": [
        "plt.plot(harmonicosFaseB, 'red', label='Valor real')\n",
        "plt.plot(scalerFaseB.inverse_transform(model_regressionB.predict(x)), 'blue', label='Valor previsto')\n",
        "plt.legend()"
      ],
      "execution_count": 0,
      "outputs": []
    },
    {
      "cell_type": "code",
      "metadata": {
        "id": "6dchgvC5NblV",
        "colab_type": "code",
        "colab": {}
      },
      "source": [
        "plt.plot(harmonicosFaseC, 'red', label='Valor real')\n",
        "plt.plot(scalerFaseC.inverse_transform(model_regressionC.predict(x)), 'blue', label='Valor previsto')\n",
        "plt.legend()"
      ],
      "execution_count": 0,
      "outputs": []
    },
    {
      "cell_type": "markdown",
      "metadata": {
        "id": "dTzIy2_oSajg",
        "colab_type": "text"
      },
      "source": [
        "# Prevendo distroções futuras"
      ]
    },
    {
      "cell_type": "code",
      "metadata": {
        "id": "o112cegQd135",
        "colab_type": "code",
        "colab": {}
      },
      "source": [
        "values = x_train[-1].reshape(1,batch,1)\n",
        "consumoPrevisto = values\n",
        "harmonicosA = []\n",
        "harmonicosB = []\n",
        "harmonicosC = []\n",
        "count = 0\n",
        "pontosParaA = 0\n",
        "verificadorA = True\n",
        "pontosParaB = 0\n",
        "verificadorB = True\n",
        "pontosParaC = 0\n",
        "verificadorC = True\n",
        "\n",
        "while (verificadorA or verificadorB or verificadorC):\n",
        "    prediction = model.predict(values)\n",
        "    consumoPrevisto = np.append(consumoPrevisto, prediction)\n",
        "    values = consumoPrevisto[count:count+batch]\n",
        "    values = values.reshape(1,batch,1)\n",
        "    \n",
        "    harmonicoValueA = scalerFaseA.inverse_transform(model_regressionA.predict(scalerConsumo.transform(scalerYTrain.inverse_transform(prediction))))[0][0]\n",
        "    harmonicoValueB = scalerFaseB.inverse_transform(model_regressionB.predict(scalerConsumo.transform(scalerYTrain.inverse_transform(prediction))))[0][0]\n",
        "    harmonicoValueC = scalerFaseC.inverse_transform(model_regressionC.predict(scalerConsumo.transform(scalerYTrain.inverse_transform(prediction))))[0][0]\n",
        "    \n",
        "    harmonicosA.append(harmonicoValueA)\n",
        "    harmonicosB.append(harmonicoValueB)\n",
        "    harmonicosC.append(harmonicoValueC)\n",
        "        \n",
        "    count += 1\n",
        "    if (harmonicoValueA > 10 and verificadorA):\n",
        "        pontosParaA = count\n",
        "        verificadorA = False\n",
        "        \n",
        "    if (harmonicoValueB > 10 and verificadorB):\n",
        "        pontosParaB = count\n",
        "        verificadorB = False\n",
        "        \n",
        "    if (harmonicoValueC > 10 and verificadorC):\n",
        "        pontosParaC = count\n",
        "        verificadorC = False\n",
        "\n",
        "print(f'Fase A - Dias após 31/dez/2018: {pontosParaA/(24*4)}')\n",
        "print(f'Fase B - Dias após 31/dez/2018: {pontosParaB/(24*4)}')\n",
        "print(f'Fase C - Dias após 31/dez/2018: {pontosParaC/(24*4)}')"
      ],
      "execution_count": 0,
      "outputs": []
    },
    {
      "cell_type": "code",
      "metadata": {
        "id": "_hE5rZRCnfFM",
        "colab_type": "code",
        "colab": {}
      },
      "source": [
        "plt.figure(figsize=(20,10))\n",
        "plt.plot(harmonicosA, 'red', label='TDH Fase A')\n",
        "plt.plot(harmonicosB, 'blue', label='TDH Fase B')\n",
        "plt.plot(harmonicosC, 'green', label='TDH Fase C')\n",
        "plt.legend()"
      ],
      "execution_count": 0,
      "outputs": []
    }
  ]
}